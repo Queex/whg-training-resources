{
 "cells": [
  {
   "cell_type": "code",
   "execution_count": 1,
   "id": "8ca2cdd8",
   "metadata": {},
   "outputs": [],
   "source": [
    "import gff\n"
   ]
  },
  {
   "cell_type": "code",
   "execution_count": null,
   "id": "545cd7c9",
   "metadata": {},
   "outputs": [],
   "source": [
    "gff."
   ]
  }
 ],
 "metadata": {
  "kernelspec": {
   "display_name": "Python 3",
   "language": "python",
   "name": "python3"
  },
  "language_info": {
   "codemirror_mode": {
    "name": "ipython",
    "version": 3
   },
   "file_extension": ".py",
   "mimetype": "text/x-python",
   "name": "python",
   "nbconvert_exporter": "python",
   "pygments_lexer": "ipython3",
   "version": "3.6.5"
  }
 },
 "nbformat": 4,
 "nbformat_minor": 5
}
